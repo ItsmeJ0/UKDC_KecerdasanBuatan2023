{
  "nbformat": 4,
  "nbformat_minor": 0,
  "metadata": {
    "colab": {
      "provenance": [],
      "authorship_tag": "ABX9TyNvACP1rQ02Mie9aGMWmigf",
      "include_colab_link": true
    },
    "kernelspec": {
      "name": "python3",
      "display_name": "Python 3"
    },
    "language_info": {
      "name": "python"
    }
  },
  "cells": [
    {
      "cell_type": "markdown",
      "metadata": {
        "id": "view-in-github",
        "colab_type": "text"
      },
      "source": [
        "<a href=\"https://colab.research.google.com/github/ItsmeJ0/UKDC_KecerdasanBuatan2023/blob/main/Top_Topic_NLP.ipynb\" target=\"_parent\"><img src=\"https://colab.research.google.com/assets/colab-badge.svg\" alt=\"Open In Colab\"/></a>"
      ]
    },
    {
      "cell_type": "code",
      "source": [
        "pip install lda"
      ],
      "metadata": {
        "colab": {
          "base_uri": "https://localhost:8080/"
        },
        "id": "-fZ-YUgtC3q0",
        "outputId": "bf3b1501-cf26-4300-9461-f4b576720762"
      },
      "execution_count": null,
      "outputs": [
        {
          "output_type": "stream",
          "name": "stdout",
          "text": [
            "Collecting lda\n",
            "  Downloading lda-2.0.0.tar.gz (320 kB)\n",
            "\u001b[2K     \u001b[90m━━━━━━━━━━━━━━━━━━━━━━━━━━━━━━━━━━━━━━━━\u001b[0m \u001b[32m320.9/320.9 kB\u001b[0m \u001b[31m5.0 MB/s\u001b[0m eta \u001b[36m0:00:00\u001b[0m\n",
            "\u001b[?25h  Preparing metadata (setup.py) ... \u001b[?25l\u001b[?25hdone\n",
            "Collecting pbr<4,>=0.6 (from lda)\n",
            "  Downloading pbr-3.1.1-py2.py3-none-any.whl (99 kB)\n",
            "\u001b[2K     \u001b[90m━━━━━━━━━━━━━━━━━━━━━━━━━━━━━━━━━━━━━━━━\u001b[0m \u001b[32m99.7/99.7 kB\u001b[0m \u001b[31m10.5 MB/s\u001b[0m eta \u001b[36m0:00:00\u001b[0m\n",
            "\u001b[?25hRequirement already satisfied: numpy<2.0,>=1.13.0 in /usr/local/lib/python3.10/dist-packages (from lda) (1.23.5)\n",
            "Building wheels for collected packages: lda\n",
            "  Building wheel for lda (setup.py) ... \u001b[?25l\u001b[?25hdone\n",
            "  Created wheel for lda: filename=lda-2.0.0-cp310-cp310-linux_x86_64.whl size=594248 sha256=86decf7b64c4e0866233ed6c4bc84b4a7f7a675b212b581fca5ae44c1c2bd3c4\n",
            "  Stored in directory: /root/.cache/pip/wheels/9d/32/fa/07fdf278a0b24269ce4d0be3d642c28dd0e888a4c5f2031279\n",
            "Successfully built lda\n",
            "Installing collected packages: pbr, lda\n",
            "Successfully installed lda-2.0.0 pbr-3.1.1\n"
          ]
        }
      ]
    },
    {
      "cell_type": "code",
      "execution_count": null,
      "metadata": {
        "colab": {
          "base_uri": "https://localhost:8080/"
        },
        "id": "W0fO8XIQ60SH",
        "outputId": "608f8de0-e7eb-4a9a-f7b6-54b2f44db3f6"
      },
      "outputs": [
        {
          "output_type": "stream",
          "name": "stdout",
          "text": [
            "Topic 0: british churchill sale million major letters west britain\n",
            "Topic 1: church government political country state people party against\n",
            "Topic 2: elvis king fans presley life concert young death\n",
            "Topic 3: yeltsin russian russia president kremlin moscow michael operation\n",
            "Topic 4: pope vatican paul john surgery hospital pontiff rome\n",
            "Topic 5: family funeral police miami versace cunanan city service\n",
            "Topic 6: simpson former years court president wife south church\n",
            "Topic 7: order mother successor election nuns church nirmala head\n",
            "Topic 8: charles prince diana royal king queen parker bowles\n",
            "Topic 9: film french france against bardot paris poster animal\n",
            "Topic 10: germany german war nazi letter christian book jews\n",
            "Topic 11: east peace prize award timor quebec belo leader\n",
            "Topic 12: n't life show told very love television father\n",
            "Topic 13: years year time last church world people say\n",
            "Topic 14: mother teresa heart calcutta charity nun hospital missionaries\n",
            "Topic 15: city salonika capital buddhist cultural vietnam byzantine show\n",
            "Topic 16: music tour opera singer israel people film israeli\n",
            "Topic 17: church catholic bernardin cardinal bishop wright death cancer\n",
            "Topic 18: harriman clinton u.s ambassador paris president churchill france\n",
            "Topic 19: city museum art exhibition century million churches set\n"
          ]
        }
      ],
      "source": [
        "import numpy as np  # Mengimpor pustaka NumPy untuk manipulasi data numerik.\n",
        "import lda  # Mengimpor pustaka LDA untuk analisis topic modeling.\n",
        "import lda.datasets  # Mengimpor dataset yang disediakan oleh pustaka LDA.\n",
        "\n",
        "# Mengambil dataset Reuters yang telah disediakan oleh pustaka LDA dan menyimpannya dalam variabel X.\n",
        "X = lda.datasets.load_reuters()\n",
        "\n",
        "# Mengambil kamus kata-kata yang digunakan dalam dataset Reuters dan menyimpannya dalam variabel vocab.\n",
        "vocab = lda.datasets.load_reuters_vocab()\n",
        "\n",
        "# Mengambil judul-judul dokumen Reuters dan menyimpannya dalam variabel titles.\n",
        "titles = lda.datasets.load_reuters_titles()\n",
        "\n",
        "# Mencetak bentuk (shape) dari matriks X, yang menunjukkan jumlah dokumen dan jumlah kata dalam dataset.\n",
        "X.shape  # Hasilnya adalah (395, 4258), artinya ada 395 dokumen dan 4258 kata dalam dataset.\n",
        "\n",
        "# Menghitung jumlah total kata-kata dalam dataset X.\n",
        "X.sum()  # Hasilnya adalah 84010, yang merupakan total kata dalam seluruh dokumen.\n",
        "\n",
        "# Membuat model LDA dengan 20 topik dan menjalankan algoritma LDA dengan 1500 iterasi.\n",
        "model = lda.LDA(n_topics=20, n_iter=1500, random_state=1)\n",
        "\n",
        "# Melatih model LDA pada dataset X menggunakan algoritma LDA.\n",
        "model.fit(X)\n",
        "\n",
        "# Menyimpan distribusi probabilitas kata dalam setiap topik.\n",
        "topic_word = model.topic_word_\n",
        "\n",
        "# Mendefinisikan jumlah kata teratas yang akan dicetak untuk setiap topik.\n",
        "n_top_words = 8\n",
        "\n",
        "# Loop melalui setiap topik dan distribusi probabilitas kata-kata dalam setiap topik.\n",
        "for i, topic_dist in enumerate(topic_word):\n",
        "    # Mengambil indeks kata-kata dengan probabilitas tertinggi dalam topik, mengurutkannya, dan mengambil 8 kata teratas.\n",
        "    topic_words = np.array(vocab)[np.argsort(topic_dist)][:-(n_top_words+1):-1]\n",
        "\n",
        "    # Mencetak hasil analisis topic modeling, termasuk nomor topik dan kata-kata yang paling mewakili topik tersebut.\n",
        "    print('Topic {}: {}'.format(i, ' '.join(topic_words)))\n"
      ]
    },
    {
      "cell_type": "code",
      "source": [
        "doc_topic = model.doc_topic_\n",
        "for i in range(3):\n",
        "  print(\"{} (top topic: {})\".format(titles[i], doc_topic[i].argmax()))"
      ],
      "metadata": {
        "colab": {
          "base_uri": "https://localhost:8080/"
        },
        "id": "Q-2mkKgaDHUK",
        "outputId": "4b085a14-b003-43b7-c090-8cedd0bf8205"
      },
      "execution_count": null,
      "outputs": [
        {
          "output_type": "stream",
          "name": "stdout",
          "text": [
            "0 UK: Prince Charles spearheads British royal revolution. LONDON 1996-08-20 (top topic: 8)\n",
            "1 GERMANY: Historic Dresden church rising from WW2 ashes. DRESDEN, Germany 1996-08-21 (top topic: 13)\n",
            "2 INDIA: Mother Teresa's condition said still unstable. CALCUTTA 1996-08-23 (top topic: 14)\n"
          ]
        }
      ]
    }
  ]
}